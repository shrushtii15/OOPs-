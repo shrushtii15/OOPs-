{
  "nbformat": 4,
  "nbformat_minor": 0,
  "metadata": {
    "colab": {
      "provenance": []
    },
    "kernelspec": {
      "name": "python3",
      "display_name": "Python 3"
    },
    "language_info": {
      "name": "python"
    }
  },
  "cells": [
    {
      "cell_type": "markdown",
      "source": [
        "Python OOPs Questions"
      ],
      "metadata": {
        "id": "XO8CUMoh-RlK"
      }
    },
    {
      "cell_type": "markdown",
      "source": [
        " 1. What is Object-Oriented Programming (OOP)?\n",
        "\n",
        "  Object-Oriented Programming System (OOPS) is a programming paradigm based on the concept of objects, which can contain data (attributes) and methods (functions) that operate on the data."
      ],
      "metadata": {
        "id": "0T63NpZEAPV2"
      }
    },
    {
      "cell_type": "markdown",
      "source": [
        "2.  What is a class in OOP?\n",
        "\n",
        "     Class is a blue print for creating an object."
      ],
      "metadata": {
        "id": "Y6kD9vj7Aj7-"
      }
    },
    {
      "cell_type": "markdown",
      "source": [
        "3. what is an object in OOP?\n",
        "\n",
        "   Object is an instance of class."
      ],
      "metadata": {
        "id": "t0awqFraBRB_"
      }
    },
    {
      "cell_type": "markdown",
      "source": [
        "4. What is the difference between abstraction\n",
        " and encapsulation?\n",
        "\n",
        " abstraction:Hiding implementation details and showing only the necessary features.\n",
        " encapsulation:Wrapping data and methods into a single unit (class) and restricting direct access."
      ],
      "metadata": {
        "id": "-ZRjVz-0BvGF"
      }
    },
    {
      "cell_type": "markdown",
      "source": [
        "  \n",
        " 5.What are dunder methods in Python?\n",
        "\n",
        "   Dunder methods also called magic and special method that are defined by built-in classes in python"
      ],
      "metadata": {
        "id": "kGHX5HI7C05v"
      }
    },
    {
      "cell_type": "markdown",
      "source": [
        "6. Explain the concept of inheritance in OOP?\n",
        "  \n",
        "   Inheritance means inherit the prorperties of super class into sub class ."
      ],
      "metadata": {
        "id": "m4IPO2HoDdng"
      }
    },
    {
      "cell_type": "markdown",
      "source": [
        "7. What is polymorphism in OOP?\n",
        "\n",
        " polymorphism in oops defined as an object taking several form depending on the method or data"
      ],
      "metadata": {
        "id": "BJ3B0uvxEDda"
      }
    },
    {
      "cell_type": "markdown",
      "source": [
        "8. How is encapsulation achieved in Python?\n",
        "\n",
        "   binding up of data with help of access modifiers(public,private,protected)"
      ],
      "metadata": {
        "id": "nxgFsA-tEqNw"
      }
    },
    {
      "cell_type": "markdown",
      "source": [
        "  9. What is a constructor in Python?\n",
        "\n",
        "  constructor in python is a special class method for creating and initializing an object instance at that class."
      ],
      "metadata": {
        "id": "xh7sz0JZFFz0"
      }
    },
    {
      "cell_type": "markdown",
      "source": [
        "10. what are class and static methods in python?\n",
        "\n",
        "     classmethod : it binds  to the class and modify methods and attributes and it using first parameter as cls instaed of self.\n",
        "     \n",
        "     staticmethod: Doesn't modify class or instance state and it doesn't take either self or cls as parameter."
      ],
      "metadata": {
        "id": "IN9gnRdmFq_b"
      }
    },
    {
      "cell_type": "markdown",
      "source": [
        "11. what is method overloading in python?\n",
        "\n",
        "  Method Overloading is a concept where multiple methods in the same class share the same name but have different parameters (arguments).   \n",
        "      \n"
      ],
      "metadata": {
        "id": "B5woaBi2HIX8"
      }
    },
    {
      "cell_type": "markdown",
      "source": [
        "12.  What is method overriding in OOP?\n",
        "\n",
        "   Method Overriding is a feature of OOP where a subclass provides a specific implementation of a method that is already defined in its superclass . The overridden method in the child class must have the same name, return type, and parameters as in the parent class."
      ],
      "metadata": {
        "id": "6GDu7D9xHjZd"
      }
    },
    {
      "cell_type": "markdown",
      "source": [
        "13. What is a property decorator in Python?\n",
        "\n",
        "  It allows method to be accesed as attribute."
      ],
      "metadata": {
        "id": "-KYBWdVDHkex"
      }
    },
    {
      "cell_type": "markdown",
      "source": [
        " 14.Why is polymorphism important in OOP?\n",
        "\n",
        "   It enables code reusability,flexibility, and scalability by allowing  different classes to be treated as if they were the same."
      ],
      "metadata": {
        "id": "HX-6_W8rJ47L"
      }
    },
    {
      "cell_type": "markdown",
      "source": [
        " 15. what is an abstract class in python?\n",
        "\n",
        "   An abstract class in Python is a class that cannot be instantiated and is meant to be a blueprint for other classes. It is used to define common methods that must be implemented in its subclasses."
      ],
      "metadata": {
        "id": "y2OeCbD7KB-b"
      }
    },
    {
      "cell_type": "markdown",
      "source": [
        " 16. what are the advantages of OOP?\n",
        "\n",
        "   Object-Oriented Programming (OOP) is a programming paradigm that organizes code into objects that contain data (attributes) and behavior (methods). OOP provides several benefits that make software development more efficient and maintainable"
      ],
      "metadata": {
        "id": "6LP_kdXWKBz8"
      }
    },
    {
      "cell_type": "markdown",
      "source": [
        " 17.  What is the difference between a class variable and an instance variable?\n",
        "   \n",
        "   Class variable:A variable that is shared among all instances of a class.\n",
        "\n",
        "   Instance variable:A variable that is unique to each instance (object).\n"
      ],
      "metadata": {
        "id": "jTIUzBItKBo-"
      }
    },
    {
      "cell_type": "markdown",
      "source": [
        "18.  What is multiple inheritance in Python?\n",
        "\n",
        "  Multiple inheritance means inherit the property of two super clases into one or more subclasses.\n",
        "  "
      ],
      "metadata": {
        "id": "YdurtBjYKBQF"
      }
    },
    {
      "cell_type": "markdown",
      "source": [
        "   19.Explain the purpose of '__str__' and '__repr__' methods in Python.\n",
        "\n",
        "   '__str__':- Provides a human-readable string representation of an object.\n",
        "     Used when calling print(obj) or str(obj). Intended for end-users to understand the object easily.\n",
        "\n",
        "  '__repr__':- Provides a detailed, unambiguous representation of an object.    \n",
        "  Used when calling repr(obj) or in debugging/logging.\n",
        "   Intended for developers, often used to recreate the object.\n",
        "   \n"
      ],
      "metadata": {
        "id": "z9RBC6xVMAMF"
      }
    },
    {
      "cell_type": "markdown",
      "source": [
        "  20.  What is the significance of the ‘super’ function in Python?\n",
        "\n",
        "  The super() function in Python is used inOOP to call methods from a parent (superclass) in a child (subclass). It is mainly used for method overriding and multiple inheritance scenarios.\n",
        "\n",
        "\n",
        "\n",
        "    "
      ],
      "metadata": {
        "id": "3sgI8iFkNhJR"
      }
    },
    {
      "cell_type": "markdown",
      "source": [
        " 21.  What is the significance of the __del__ method in Python?\n",
        "\n",
        "  The __del__ method is a special method in Python, also known as the destructor. It is called when an object is about to be destroyed. This happens when an object goes out of scope or is explicitly deleted using del."
      ],
      "metadata": {
        "id": "5zsOxOl_Ng9I"
      }
    },
    {
      "cell_type": "markdown",
      "source": [
        " 22.  What is the difference between @staticmethod and @classmethod in Python?\n",
        "\n",
        "   In static method doesn't modify the class or it does not use either self or cls as parameter.\n",
        "\n",
        "   In classmethod it modify the class and attributes and used first parameter as cls.\n"
      ],
      "metadata": {
        "id": "kZ-esiM7Ngvk"
      }
    },
    {
      "cell_type": "markdown",
      "source": [
        " 23. How does polymorphism work in Python with inheritance.\n",
        "\n",
        "  Polymorphism in Python with inheritance allows objects of different classes to be treated as objects of a common type. This is achieved through method overriding, where a subclass provides a specific implementation of a method that is already defined in its superclass.\n"
      ],
      "metadata": {
        "id": "_89dsDP4PO7T"
      }
    },
    {
      "cell_type": "markdown",
      "source": [
        "24. what is method chaining in pyhton OOP?\n",
        "\n",
        "   Method chaining is a technique in object-oriented programming (OOP) where multiple methods are called on the same object in a single statement, improving code readability and reducing intermediate variables.\n",
        "\n",
        "    \n"
      ],
      "metadata": {
        "id": "9c3mw4n2P_3K"
      }
    },
    {
      "cell_type": "markdown",
      "source": [
        " 25. What is the purpose of the __call__ method in Python?\n",
        "\n",
        " The __call__ method in Python allows an instance of a class to be called like a function. This means that after creating an object, you can use object() just like you would call a function"
      ],
      "metadata": {
        "id": "9Yzlnv0QQTj4"
      }
    },
    {
      "cell_type": "markdown",
      "source": [
        "**Practical Questions**"
      ],
      "metadata": {
        "id": "LSluLMcxQcQe"
      }
    },
    {
      "cell_type": "code",
      "source": [
        "# 1. Create a parent class Animal with a method speak() that prints a generic message. Create a child class Dog\n",
        "#that overrides the speak() method to print \"Bark!\".\n",
        "\n",
        "\n",
        "class Animal:\n",
        "  def speak(self):\n",
        "     print(\"generic message\")\n",
        "class Dog(Animal):\n",
        "  def speak(self):\n",
        "      print(\"Bark!\")\n",
        "a = Animal()\n",
        "a.speak()\n",
        "b=Dog()\n",
        "b.speak()\n",
        "\n",
        "\n"
      ],
      "metadata": {
        "colab": {
          "base_uri": "https://localhost:8080/"
        },
        "id": "_1RIDc3eQgT3",
        "outputId": "a858c8e1-c33f-4623-d1c2-a2499e2604e9"
      },
      "execution_count": null,
      "outputs": [
        {
          "output_type": "stream",
          "name": "stdout",
          "text": [
            "generic message\n",
            "Bark!\n"
          ]
        }
      ]
    },
    {
      "cell_type": "code",
      "source": [
        " # 2. Write a program to create an abstract class Shape with a method area(). Derive classes Circle and Rectangle\n",
        "   # from it and implement the area() method in both.\n",
        "\n",
        "from abc import ABC, abstractmethod\n",
        "\n",
        "class Shape(ABC):  # Abstract class\n",
        "    @abstractmethod\n",
        "    def area(self):\n",
        "        pass\n",
        "\n",
        "class Circle(Shape):\n",
        "    def __init__(self, radius):\n",
        "        self.radius = radius\n",
        "\n",
        "    def area(self):\n",
        "        return 3.14* self.radius**2\n",
        "\n",
        "class Rectangle(Shape):\n",
        "    def __init__(self, width, height):\n",
        "        self.width = width\n",
        "        self.height = height\n",
        "\n",
        "    def area(self):\n",
        "        return self.width * self.height\n",
        "\n",
        "circle = Circle(5)\n",
        "rectangle = Rectangle(4, 6)\n",
        "\n",
        "print(\"Circle Area:\", circle.area())\n",
        "print(\"Rectangle Area:\", rectangle.area())\n"
      ],
      "metadata": {
        "colab": {
          "base_uri": "https://localhost:8080/"
        },
        "id": "cfgLXHuCSf4d",
        "outputId": "82f0e359-f43e-42a9-ab42-7ba1e07d92fb"
      },
      "execution_count": null,
      "outputs": [
        {
          "output_type": "stream",
          "name": "stdout",
          "text": [
            "Circle Area: 78.5\n",
            "Rectangle Area: 24\n"
          ]
        }
      ]
    },
    {
      "cell_type": "code",
      "source": [
        " # 3.Implement a multi-level inheritance scenario where a class Vehicle has an attribute type. Derive a class Car\n",
        " # and further derive a class ElectricCar that adds a battery attribute\n",
        "\n",
        "class Vehicle:\n",
        "    def __init__(self, type):\n",
        "        self.type = type\n",
        "    def display_type(self):\n",
        "        print(f\"Vehicle Type: {self.type}\")\n",
        "class Car(Vehicle):\n",
        "    def __init__(self, type, model):\n",
        "        super().__init__(type)\n",
        "        self.model = model\n",
        "    def display_car(self):\n",
        "        print(f\" Car Type: {self.type} and model:{self.model}\")\n",
        "\n",
        "class ElectricCar(Car):\n",
        "    def __init__(self, type, model, battery):\n",
        "        super().__init__(type, model)\n",
        "        self.battery = battery\n",
        "    def display_ec(self):\n",
        "        print(f\" electicCar Type: {self.type} and model:{self.model} battery: {self.battery}\")\n",
        "obj=ElectricCar(\"Bmw\",\"MOdel R\",1000)\n",
        "obj.display_ec()"
      ],
      "metadata": {
        "colab": {
          "base_uri": "https://localhost:8080/"
        },
        "id": "zpZPUxBfTMup",
        "outputId": "0674197c-5afa-4953-b827-bc3e682aefac"
      },
      "execution_count": null,
      "outputs": [
        {
          "output_type": "stream",
          "name": "stdout",
          "text": [
            " electicCar Type: Bmw and model:MOdel R battery: 1000\n"
          ]
        }
      ]
    },
    {
      "cell_type": "code",
      "source": [
        "# 4. Demonstrate polymorphism by creating a base class Bird with a method fly(). Create two derived classes\n",
        "#Sparrow and Penguin that override the fly() method.\n",
        "\n",
        "class Bird:\n",
        "    def fly(self):\n",
        "        print(\"Bird is flying\")\n",
        "\n",
        "class Sparrow(Bird):\n",
        "    def fly(self):\n",
        "        print(\"Sparrow is flying\")\n",
        "\n",
        "class Penguin(Bird):\n",
        "    def fly(self):\n",
        "        print(\"Penguin is not flying\")\n",
        "\n",
        "# Function demonstrating polymorphism\n",
        "def bird_flight(bird):\n",
        "    bird.fly()\n",
        "obj1=Sparrow()\n",
        "obj2=Penguin()\n",
        "bird_flight(obj1)\n",
        "bird_flight(obj2)\n",
        "\n",
        "\n"
      ],
      "metadata": {
        "colab": {
          "base_uri": "https://localhost:8080/"
        },
        "id": "ujxP8e3aWGDE",
        "outputId": "b4dafa02-e18a-484c-c14e-c81c67ac08bf"
      },
      "execution_count": null,
      "outputs": [
        {
          "output_type": "stream",
          "name": "stdout",
          "text": [
            "Sparrow is flying\n",
            "Penguin is not flying\n"
          ]
        }
      ]
    },
    {
      "cell_type": "code",
      "source": [
        "# 5. Write a program to demonstrate encapsulation by creating a class BankAccount with private attributes\n",
        "#  balance and methods to deposit, withdraw, and check balance.\n",
        "class BankAccount:\n",
        "  def __init__(self,balance):\n",
        "    self.__balance=balance\n",
        "  def deposit(self,deposit_amount):\n",
        "    self.deposit_amount=deposit_amount\n",
        "    self.__balance+=deposit_amount\n",
        "  def withdraw(self,withdraw_amount):\n",
        "    self.withdraw_amount=withdraw_amount\n",
        "    if self.__balance>withdraw_amount:\n",
        "       self.__balance=self.__balance-withdraw_amount\n",
        "       return True\n",
        "    else:\n",
        "       return False\n",
        "  def get_balance(self):\n",
        "      return self.__balance\n",
        "acc1=BankAccount(5000)\n",
        "print(\"balnace:\",acc1.get_balance())         # balance=5000\n",
        "acc1.deposit(20000)\n",
        "print(\"after Deposit:\",acc1.get_balance())   # balance=25000\n",
        "acc1.withdraw(6000)        #True\n",
        "print(\"after withdraw:\",acc1.get_balance())    # balance=19000\n",
        "\n"
      ],
      "metadata": {
        "id": "nPMnibsBaIiH",
        "colab": {
          "base_uri": "https://localhost:8080/"
        },
        "outputId": "1fa9ab6a-41b7-4386-fbef-04fc3e7af18e"
      },
      "execution_count": 155,
      "outputs": [
        {
          "output_type": "stream",
          "name": "stdout",
          "text": [
            "balnace: 5000\n",
            "after Deposit: 25000\n",
            "after withdraw: 19000\n"
          ]
        }
      ]
    },
    {
      "cell_type": "code",
      "source": [
        " # 6.Demonstrate runtime polymorphism using a method play() in a base class Instrument. Derive classes Guitar\n",
        "# and Piano that implement their own version of play().\n",
        "class Instrument:\n",
        "    def play(self):\n",
        "        print(\"Instrument is playing\")\n",
        "\n",
        "class Guitar(Instrument):\n",
        "    def play(self):\n",
        "        print(\"Guitar is playing\")\n",
        "\n",
        "class Piano(Instrument):\n",
        "    def play(self):\n",
        "        print(\"Piano is playing\")\n",
        "obj1=Piano()\n",
        "obj2=Guitar()\n",
        "obj=[obj1,obj2]\n",
        "\n",
        "def all_instruments(obj):\n",
        "  for i in obj:\n",
        "    i.play()\n",
        "all_instruments(obj)\n",
        "\n",
        "\n"
      ],
      "metadata": {
        "id": "tdVG5F89l66Z",
        "colab": {
          "base_uri": "https://localhost:8080/"
        },
        "outputId": "8035ab15-42c8-4db7-afab-dfb869129030"
      },
      "execution_count": 17,
      "outputs": [
        {
          "output_type": "stream",
          "name": "stdout",
          "text": [
            "Piano is playing\n",
            "Guitar is playing\n"
          ]
        }
      ]
    },
    {
      "cell_type": "code",
      "source": [
        "# 7.Create a class MathOperations with a class method add_numbers() to add two numbers and a static\n",
        "# method subtract_numbers() to subtract two numbers.\n",
        "class MathOperations:\n",
        "    @classmethod\n",
        "    def add_numbers(cls, num1, num2):\n",
        "        return num1 + num2\n",
        "\n",
        "    @staticmethod\n",
        "    def subtract_numbers(num1, num2):\n",
        "        return num1 - num2\n",
        "print(\"Add_operation: \",MathOperations.add_numbers(9,7)  )    # 16\n",
        "print(\"Subtract_operation:\", MathOperations.subtract_numbers(18,7))   # 11\n"
      ],
      "metadata": {
        "colab": {
          "base_uri": "https://localhost:8080/"
        },
        "id": "oyWJ-c40xvzR",
        "outputId": "f1aa29a8-01d0-4759-ad7e-9a78f134db3b"
      },
      "execution_count": 146,
      "outputs": [
        {
          "output_type": "stream",
          "name": "stdout",
          "text": [
            "Add_operation:  16\n",
            "Subtract_operation: 11\n"
          ]
        }
      ]
    },
    {
      "cell_type": "code",
      "source": [
        "# 8. Implement a class Person with a class method to count the total number of persons created.\n",
        "class Person:\n",
        "    count = 0  # Class variable to keep track of the number of persons\n",
        "\n",
        "    def __init__(self):\n",
        "      Person.count += 1\n",
        "\n",
        "    @classmethod\n",
        "    def total_persons(cls):\n",
        "        return cls.count\n",
        "\n",
        "p1 = Person()\n",
        "p2 = Person()\n",
        "\n",
        "\n",
        "print(\"Total persons created:\", Person.total_persons())\n",
        ""
      ],
      "metadata": {
        "colab": {
          "base_uri": "https://localhost:8080/"
        },
        "id": "t6D-fYvc0Mu4",
        "outputId": "0825fc66-4b16-47ef-9ae3-ff8ad5d4d9eb"
      },
      "execution_count": 41,
      "outputs": [
        {
          "output_type": "stream",
          "name": "stdout",
          "text": [
            "Total persons created: 2\n"
          ]
        }
      ]
    },
    {
      "cell_type": "code",
      "source": [
        "#9. Write a class Fraction with attributes numerator and denominator. Override the str method to display the\n",
        "#  fraction as \"numerator/denominator\"\n",
        "class Fraction:\n",
        "    def __init__(self, numerator, denominator):\n",
        "        self.numerator = numerator\n",
        "        self.denominator = denominator\n",
        "\n",
        "    def __str__(self):\n",
        "         return f\"{self.numerator}/{self.denominator}\"\n",
        "\n",
        "f1=Fraction(4,5)\n",
        "print(f1)"
      ],
      "metadata": {
        "colab": {
          "base_uri": "https://localhost:8080/"
        },
        "id": "uAT0-ygY00-0",
        "outputId": "0ea4ca67-8a9a-4c3b-d24c-80eba1633943"
      },
      "execution_count": 49,
      "outputs": [
        {
          "output_type": "stream",
          "name": "stdout",
          "text": [
            "4/5\n"
          ]
        }
      ]
    },
    {
      "cell_type": "code",
      "source": [
        " #10. Demonstrate operator overloading by creating a class Vector and overriding the add method to add two\n",
        "#  vectors.\n",
        "\n",
        "class Vector:\n",
        "    def __init__(self, x, y):\n",
        "        self.x = x\n",
        "        self.y = y\n",
        "\n",
        "    def __add__(self,other):\n",
        "        return Vector(self.x + other.x, self.y + other.y)\n",
        "    def __str__(self):\n",
        "        return f\"Vector({self.x}, {self.y})\"\n",
        "\n",
        "v1=Vector(7,9)\n",
        "v2=Vector(2,3)\n",
        "v=v1+v2\n",
        "print(\"Vector 1:\", v1)\n",
        "print(\"Vector 2:\", v2)\n",
        "print(\"Sum of Vectors:\", v)\n"
      ],
      "metadata": {
        "colab": {
          "base_uri": "https://localhost:8080/"
        },
        "id": "cYKCK-M621zc",
        "outputId": "a008426f-e1e4-450d-8d75-29bae271a5a5"
      },
      "execution_count": 68,
      "outputs": [
        {
          "output_type": "stream",
          "name": "stdout",
          "text": [
            "Vector 1: Vector(7, 9)\n",
            "Vector 2: Vector(2, 3)\n",
            "Sum of Vectors: Vector(9, 12)\n"
          ]
        }
      ]
    },
    {
      "cell_type": "code",
      "source": [
        "#11. Create a class Person with attributes name and age. Add a method greet() that prints \"Hello, my name is\n",
        "#{name} and I am {age} years old.\n",
        "\n",
        "class Person:\n",
        "    def __init__(self, name, age):\n",
        "        self.name = name\n",
        "        self.age = age\n",
        "    def greet(self):\n",
        "       print(f\"Hello, my name is {self.name} and I am {self.age} years old\")\n",
        "k=Person(\"khushi\",20)\n",
        "k.greet()\n",
        "\n"
      ],
      "metadata": {
        "colab": {
          "base_uri": "https://localhost:8080/"
        },
        "id": "gnNjk_n33929",
        "outputId": "8844964e-a21a-4419-da01-d2e16abe4b5b"
      },
      "execution_count": 73,
      "outputs": [
        {
          "output_type": "stream",
          "name": "stdout",
          "text": [
            "Hello, my name is khushi and I am 20 years old\n"
          ]
        }
      ]
    },
    {
      "cell_type": "code",
      "source": [
        "#12 Implement a class Student with attributes name and grades. Create a method average_grade() to compute\n",
        "# the average of the grades.\n",
        "class Student:\n",
        "   def __init__(self,name,grades):\n",
        "       self.name=name\n",
        "       self.grades=grades\n",
        "   def average_grade(self):\n",
        "      return sum(self.grades)/len(self.grades)\n",
        "s1 = Student(\"khushi\", [85, 90, 78])\n",
        "s2 = Student(\"shelly\", [92, 88, 84])\n",
        "print(f\"{s1.name}'s average grade:\", s1.average_grade())\n",
        "print(f\"{s2.name}'s average grade:\", s2.average_grade())\n"
      ],
      "metadata": {
        "colab": {
          "base_uri": "https://localhost:8080/"
        },
        "id": "1KcA1pkf4viH",
        "outputId": "b8755081-cd82-478d-ad4b-863bf40c8931"
      },
      "execution_count": 77,
      "outputs": [
        {
          "output_type": "stream",
          "name": "stdout",
          "text": [
            "khushi's average grade: 84.33333333333333\n",
            "shelly's average grade: 88.0\n"
          ]
        }
      ]
    },
    {
      "cell_type": "code",
      "source": [
        "#13. Create a class Rectangle with methods set_dimensions() to set the dimensions and area() to calculate the area.\n",
        "\n",
        "class Rectangle:\n",
        "    def __init__(self):\n",
        "        self.length = 0\n",
        "        self.width = 0\n",
        "    def set_dimensions(self, length, width):\n",
        "        self.length = length\n",
        "        self.width = width\n",
        "    def area(self):\n",
        "        return self.length * self.width\n",
        "r1=Rectangle()\n",
        "r1.set_dimensions(7,60)\n",
        "print(\"Area:\",r1.area())"
      ],
      "metadata": {
        "colab": {
          "base_uri": "https://localhost:8080/"
        },
        "id": "ghW-Yg8G7LHD",
        "outputId": "88cb9836-dc54-468d-b89e-362d26a4da24"
      },
      "execution_count": 144,
      "outputs": [
        {
          "output_type": "stream",
          "name": "stdout",
          "text": [
            "Area: 420\n"
          ]
        }
      ]
    },
    {
      "cell_type": "code",
      "source": [
        "#14. Create a class Employee with a method calculate_salary() that computes the salary based on hours worked\n",
        "#and hourly rate. Create a derived class Manager that adds a bonus to the salary.\n",
        "\n",
        "class Employee:\n",
        "  def __init__(self,hours_worked,hourly_rate):\n",
        "    self.hours_worked=hours_worked\n",
        "    self.hourly_rate=hourly_rate\n",
        "  def calculate_salary(self):\n",
        "    return self.hours_worked*self.hourly_rate\n",
        "class Manager(Employee):\n",
        "  def __init__(self, hours_worked, hourly_rate, bonus):\n",
        "    super().__init__(hours_worked, hourly_rate)\n",
        "    self.bonus = bonus\n",
        "  def calculate_salary(self):\n",
        "        return super().calculate_salary() + self.bonus\n",
        "\n",
        "# Example usage\n",
        "emp = Employee(40, 20)\n",
        "print(\"Employee Salary:\", emp.calculate_salary())\n",
        "\n",
        "mgr = Manager(40, 30, 500)\n",
        "print(\"Manager Salary:\", mgr.calculate_salary())"
      ],
      "metadata": {
        "colab": {
          "base_uri": "https://localhost:8080/"
        },
        "id": "Cvv9RtyM8jCV",
        "outputId": "c34c9088-75ce-4c11-d1ed-7265f8a28a6d"
      },
      "execution_count": 94,
      "outputs": [
        {
          "output_type": "stream",
          "name": "stdout",
          "text": [
            "Employee Salary: 800\n",
            "Manager Salary: 1700\n"
          ]
        }
      ]
    },
    {
      "cell_type": "code",
      "source": [
        "from os import PRIO_PROCESS\n",
        "# 15.  Create a class Product with attributes name, price, and quantity. Implement a method total_price() that\n",
        " #calculates the total price of the product.\n",
        "\n",
        "class Product:\n",
        "    def __init__(self,name,price,quantity):\n",
        "      self.name=name\n",
        "      self.price=price\n",
        "      self.quantity=quantity\n",
        "    def total_price(self):\n",
        "          return (f\"total price of product\",{self.price*self.quantity})\n",
        "k=Product(\"bottles\",10,150)\n",
        "print(\"name of product:\",k.name)\n",
        "print(\"price of product:\",k.price)\n",
        "print(\"no. of quantity:\",k.quantity)\n",
        "k.total_price()\n"
      ],
      "metadata": {
        "colab": {
          "base_uri": "https://localhost:8080/"
        },
        "id": "Sh888zcU-IFv",
        "outputId": "def66ece-56ea-4b57-940b-b219a4f0bc8b"
      },
      "execution_count": 109,
      "outputs": [
        {
          "output_type": "stream",
          "name": "stdout",
          "text": [
            "name of product: bottles\n",
            "price of product: 10\n",
            "no. of quantity: 150\n"
          ]
        },
        {
          "output_type": "execute_result",
          "data": {
            "text/plain": [
              "('total price of product', {1500})"
            ]
          },
          "metadata": {},
          "execution_count": 109
        }
      ]
    },
    {
      "cell_type": "code",
      "source": [
        "  #16. Create a class Animal with an abstract method sound(). Create two derived classes Cow and Sheep that\n",
        "# implement the sound() method.\n",
        "\n",
        "class Animal:\n",
        "    def sound(self):\n",
        "        pass\n",
        "\n",
        "class Cow(Animal):\n",
        "    def sound(self):\n",
        "        return \"Moo!\"\n",
        "\n",
        "class Sheep(Animal):\n",
        "    def sound(self):\n",
        "        return \"Baa!\"\n",
        "k=Sheep()\n",
        "print(k.sound())     #\"baa!\"\n",
        "k1=Cow()\n",
        "print(k1.sound())      #\"Moo!\""
      ],
      "metadata": {
        "colab": {
          "base_uri": "https://localhost:8080/"
        },
        "id": "zwu9Z7-f_PSx",
        "outputId": "c57f293f-e2c0-4d02-8385-ff39c3d157bb"
      },
      "execution_count": 140,
      "outputs": [
        {
          "output_type": "stream",
          "name": "stdout",
          "text": [
            "Baa!\n",
            "Moo!\n"
          ]
        }
      ]
    },
    {
      "cell_type": "code",
      "source": [
        "# 17. Create a class Book with attributes title, author, and year_published. Add a method get_book_info() that\n",
        "#  returns a formatted string with the book's details.\n",
        "\n",
        "class Book:\n",
        "  def __init__(self,title,author,year_published):\n",
        "    self.title=title\n",
        "    self.author=author\n",
        "    self.year_published=year_published\n",
        "  def get_book_info(self):\n",
        "       return f\"Title: {self.title} ,Author: {self.author} ,Year of published: {self.year_published}\"\n",
        "k=Book(\"After\",\"Anna Todd\",2014)\n",
        "print(\"Book Details:-\",k.get_book_info())\n",
        "\n",
        "\n",
        "\n",
        "\n"
      ],
      "metadata": {
        "colab": {
          "base_uri": "https://localhost:8080/"
        },
        "id": "JnmaFhBLDuSW",
        "outputId": "e8464745-e90f-4ae0-dc0b-59ff0ed5d487"
      },
      "execution_count": 134,
      "outputs": [
        {
          "output_type": "stream",
          "name": "stdout",
          "text": [
            "Book Details:- Title: After ,Author: Anna Todd ,Year of published: 2014\n"
          ]
        }
      ]
    },
    {
      "cell_type": "code",
      "source": [
        "#18. Create a class House with attributes address and price. Create a derived class Mansion that adds an\n",
        "#  attribute number_of_rooms.\n",
        "\n",
        "class House:\n",
        "    def __init__(self, address, price):\n",
        "        self.address = address\n",
        "        self.price = price\n",
        "\n",
        "    def display_info(self):\n",
        "        return f\"Address: {self.address}, Price: ${self.price}\"\n",
        "\n",
        "class Mansion(House):\n",
        "    def __init__(self, address, price, number_of_rooms):\n",
        "        super().__init__(address, price)\n",
        "        self.number_of_rooms = number_of_rooms\n",
        "\n",
        "    def display_info(self):\n",
        "        return f\"Address: {self.address}, Price: ${self.price}, Rooms: {self.number_of_rooms}\"\n",
        "\n",
        "house = House(\"123 Main St\", 250000)\n",
        "mansion = Mansion(\"456 Luxury Ave\", 5000000, 10)\n",
        "\n",
        "print(house.display_info())\n",
        "print(mansion.display_info())\n"
      ],
      "metadata": {
        "colab": {
          "base_uri": "https://localhost:8080/"
        },
        "id": "klSGMHLrIOY6",
        "outputId": "1e722610-bda8-4237-c711-e82fe15a37ce"
      },
      "execution_count": 139,
      "outputs": [
        {
          "output_type": "stream",
          "name": "stdout",
          "text": [
            "Address: 123 Main St, Price: $250000\n",
            "Address: 456 Luxury Ave, Price: $5000000, Rooms: 10\n"
          ]
        }
      ]
    },
    {
      "cell_type": "code",
      "source": [],
      "metadata": {
        "id": "osYs3JrtIVEZ"
      },
      "execution_count": null,
      "outputs": []
    }
  ]
}